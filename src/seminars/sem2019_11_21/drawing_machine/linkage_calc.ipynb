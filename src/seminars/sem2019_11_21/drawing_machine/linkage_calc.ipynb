{
 "cells": [
  {
   "cell_type": "markdown",
   "metadata": {},
   "source": [
    "# Символьные вычисления в sympy\n",
    "\n",
    "Это попытка использовать систему символьных вычислений с целью найти координаты точек пересечения двух произвольных окружностей"
   ]
  },
  {
   "cell_type": "markdown",
   "metadata": {},
   "source": [
    "Определим необходимые символы нашей задачи"
   ]
  },
  {
   "cell_type": "code",
   "execution_count": 1,
   "metadata": {},
   "outputs": [],
   "source": [
    "from sympy import *\n",
    "# X1, Y1 - центр первой окружности\n",
    "# X2, Y2 - центр второй окружности\n",
    "# R1, R2 - радиусы этих окружностей\n",
    "# X, Y - координаты точки пересечения двух окружностей\n",
    "\n",
    "X1, Y1, X2, Y2, R1, R2, X, Y = symbols('X_1 Y_1 X_2 Y_2 R_1 R_2 X Y') "
   ]
  },
  {
   "cell_type": "markdown",
   "metadata": {},
   "source": [
    "Теперь напишем два предиката принадлежности точки (X, Y) первой и второй окружности."
   ]
  },
  {
   "cell_type": "code",
   "execution_count": 2,
   "metadata": {},
   "outputs": [],
   "source": [
    "P1 = (X - X1)**2 + (Y - Y1)**2 - R1**2\n",
    "P2 = (X - X2)**2 + (Y - Y2)**2 - R2**2"
   ]
  },
  {
   "cell_type": "code",
   "execution_count": 49,
   "metadata": {},
   "outputs": [
    {
     "data": {
      "text/latex": [
       "$\\displaystyle - R_{1}^{2} + \\left(X - X_{1}\\right)^{2} + \\left(Y - Y_{1}\\right)^{2}$"
      ],
      "text/plain": [
       "-R_1**2 + (X - X_1)**2 + (Y - Y_1)**2"
      ]
     },
     "execution_count": 49,
     "metadata": {},
     "output_type": "execute_result"
    }
   ],
   "source": [
    "P1"
   ]
  },
  {
   "cell_type": "code",
   "execution_count": 50,
   "metadata": {},
   "outputs": [
    {
     "data": {
      "text/latex": [
       "$\\displaystyle - R_{2}^{2} + \\left(X - X_{2}\\right)^{2} + \\left(Y - Y_{2}\\right)^{2}$"
      ],
      "text/plain": [
       "-R_2**2 + (X - X_2)**2 + (Y - Y_2)**2"
      ]
     },
     "execution_count": 50,
     "metadata": {},
     "output_type": "execute_result"
    }
   ],
   "source": [
    "P2"
   ]
  },
  {
   "cell_type": "markdown",
   "metadata": {},
   "source": [
    "Теперь попросим sympy решить систему уравнений $P1 = 0 \\land P2 = 0$"
   ]
  },
  {
   "cell_type": "code",
   "execution_count": 3,
   "metadata": {},
   "outputs": [],
   "source": [
    "solution = solve([P1, P2], [X, Y])"
   ]
  },
  {
   "cell_type": "markdown",
   "metadata": {},
   "source": [
    "Вот один из корней X-овой координаты:"
   ]
  },
  {
   "cell_type": "code",
   "execution_count": 4,
   "metadata": {},
   "outputs": [
    {
     "data": {
      "text/latex": [
       "$\\displaystyle - \\frac{R_{1}^{2} - R_{2}^{2} - X_{1}^{2} + X_{2}^{2} - Y_{1}^{2} + Y_{2}^{2} + \\left(2 Y_{1} - 2 Y_{2}\\right) \\left(- \\frac{\\sqrt{- \\left(R_{1}^{2} - 2 R_{1} R_{2} + R_{2}^{2} - X_{1}^{2} + 2 X_{1} X_{2} - X_{2}^{2} - Y_{1}^{2} + 2 Y_{1} Y_{2} - Y_{2}^{2}\\right) \\left(R_{1}^{2} + 2 R_{1} R_{2} + R_{2}^{2} - X_{1}^{2} + 2 X_{1} X_{2} - X_{2}^{2} - Y_{1}^{2} + 2 Y_{1} Y_{2} - Y_{2}^{2}\\right)} \\left(X_{1} - X_{2}\\right)}{2 \\left(X_{1}^{2} - 2 X_{1} X_{2} + X_{2}^{2} + Y_{1}^{2} - 2 Y_{1} Y_{2} + Y_{2}^{2}\\right)} - \\frac{R_{1}^{2} Y_{1} - R_{1}^{2} Y_{2} - R_{2}^{2} Y_{1} + R_{2}^{2} Y_{2} - X_{1}^{2} Y_{1} - X_{1}^{2} Y_{2} + 2 X_{1} X_{2} Y_{1} + 2 X_{1} X_{2} Y_{2} - X_{2}^{2} Y_{1} - X_{2}^{2} Y_{2} - Y_{1}^{3} + Y_{1}^{2} Y_{2} + Y_{1} Y_{2}^{2} - Y_{2}^{3}}{2 \\left(X_{1}^{2} - 2 X_{1} X_{2} + X_{2}^{2} + Y_{1}^{2} - 2 Y_{1} Y_{2} + Y_{2}^{2}\\right)}\\right)}{2 \\left(X_{1} - X_{2}\\right)}$"
      ],
      "text/plain": [
       "-(R_1**2 - R_2**2 - X_1**2 + X_2**2 - Y_1**2 + Y_2**2 + (2*Y_1 - 2*Y_2)*(-sqrt(-(R_1**2 - 2*R_1*R_2 + R_2**2 - X_1**2 + 2*X_1*X_2 - X_2**2 - Y_1**2 + 2*Y_1*Y_2 - Y_2**2)*(R_1**2 + 2*R_1*R_2 + R_2**2 - X_1**2 + 2*X_1*X_2 - X_2**2 - Y_1**2 + 2*Y_1*Y_2 - Y_2**2))*(X_1 - X_2)/(2*(X_1**2 - 2*X_1*X_2 + X_2**2 + Y_1**2 - 2*Y_1*Y_2 + Y_2**2)) - (R_1**2*Y_1 - R_1**2*Y_2 - R_2**2*Y_1 + R_2**2*Y_2 - X_1**2*Y_1 - X_1**2*Y_2 + 2*X_1*X_2*Y_1 + 2*X_1*X_2*Y_2 - X_2**2*Y_1 - X_2**2*Y_2 - Y_1**3 + Y_1**2*Y_2 + Y_1*Y_2**2 - Y_2**3)/(2*(X_1**2 - 2*X_1*X_2 + X_2**2 + Y_1**2 - 2*Y_1*Y_2 + Y_2**2))))/(2*(X_1 - X_2))"
      ]
     },
     "execution_count": 4,
     "metadata": {},
     "output_type": "execute_result"
    }
   ],
   "source": [
    "solution[0][0]"
   ]
  },
  {
   "cell_type": "markdown",
   "metadata": {},
   "source": [
    "### Какое нагромождение!!!"
   ]
  },
  {
   "cell_type": "markdown",
   "metadata": {},
   "source": [
    "## Можно ли упростить решение?"
   ]
  },
  {
   "cell_type": "markdown",
   "metadata": {},
   "source": [
    "Простое упрощение средствами sympy едва ли помогло"
   ]
  },
  {
   "cell_type": "code",
   "execution_count": 5,
   "metadata": {},
   "outputs": [
    {
     "data": {
      "text/latex": [
       "$\\displaystyle \\frac{\\left(Y_{1} - Y_{2}\\right) \\left(R_{1}^{2} Y_{1} - R_{1}^{2} Y_{2} - R_{2}^{2} Y_{1} + R_{2}^{2} Y_{2} - X_{1}^{2} Y_{1} - X_{1}^{2} Y_{2} + 2 X_{1} X_{2} Y_{1} + 2 X_{1} X_{2} Y_{2} - X_{2}^{2} Y_{1} - X_{2}^{2} Y_{2} - Y_{1}^{3} + Y_{1}^{2} Y_{2} + Y_{1} Y_{2}^{2} - Y_{2}^{3} + \\sqrt{- \\left(R_{1}^{2} - 2 R_{1} R_{2} + R_{2}^{2} - X_{1}^{2} + 2 X_{1} X_{2} - X_{2}^{2} - Y_{1}^{2} + 2 Y_{1} Y_{2} - Y_{2}^{2}\\right) \\left(R_{1}^{2} + 2 R_{1} R_{2} + R_{2}^{2} - X_{1}^{2} + 2 X_{1} X_{2} - X_{2}^{2} - Y_{1}^{2} + 2 Y_{1} Y_{2} - Y_{2}^{2}\\right)} \\left(X_{1} - X_{2}\\right)\\right) + \\left(- R_{1}^{2} + R_{2}^{2} + X_{1}^{2} - X_{2}^{2} + Y_{1}^{2} - Y_{2}^{2}\\right) \\left(X_{1}^{2} - 2 X_{1} X_{2} + X_{2}^{2} + Y_{1}^{2} - 2 Y_{1} Y_{2} + Y_{2}^{2}\\right)}{2 \\left(X_{1} - X_{2}\\right) \\left(X_{1}^{2} - 2 X_{1} X_{2} + X_{2}^{2} + Y_{1}^{2} - 2 Y_{1} Y_{2} + Y_{2}^{2}\\right)}$"
      ],
      "text/plain": [
       "((Y_1 - Y_2)*(R_1**2*Y_1 - R_1**2*Y_2 - R_2**2*Y_1 + R_2**2*Y_2 - X_1**2*Y_1 - X_1**2*Y_2 + 2*X_1*X_2*Y_1 + 2*X_1*X_2*Y_2 - X_2**2*Y_1 - X_2**2*Y_2 - Y_1**3 + Y_1**2*Y_2 + Y_1*Y_2**2 - Y_2**3 + sqrt(-(R_1**2 - 2*R_1*R_2 + R_2**2 - X_1**2 + 2*X_1*X_2 - X_2**2 - Y_1**2 + 2*Y_1*Y_2 - Y_2**2)*(R_1**2 + 2*R_1*R_2 + R_2**2 - X_1**2 + 2*X_1*X_2 - X_2**2 - Y_1**2 + 2*Y_1*Y_2 - Y_2**2))*(X_1 - X_2)) + (-R_1**2 + R_2**2 + X_1**2 - X_2**2 + Y_1**2 - Y_2**2)*(X_1**2 - 2*X_1*X_2 + X_2**2 + Y_1**2 - 2*Y_1*Y_2 + Y_2**2))/(2*(X_1 - X_2)*(X_1**2 - 2*X_1*X_2 + X_2**2 + Y_1**2 - 2*Y_1*Y_2 + Y_2**2))"
      ]
     },
     "execution_count": 5,
     "metadata": {},
     "output_type": "execute_result"
    }
   ],
   "source": [
    "x_sol = solution[0][0]\n",
    "\n",
    "x_sol.simplify()"
   ]
  },
  {
   "cell_type": "markdown",
   "metadata": {},
   "source": [
    "## Решаем в полуручном режиме\n",
    "\n",
    "При решении будем пытаться сохранять симметрию"
   ]
  },
  {
   "cell_type": "code",
   "execution_count": 6,
   "metadata": {},
   "outputs": [
    {
     "data": {
      "text/latex": [
       "$\\displaystyle - R_{1}^{2} + \\left(X - X_{1}\\right)^{2} + \\left(Y - Y_{1}\\right)^{2}$"
      ],
      "text/plain": [
       "-R_1**2 + (X - X_1)**2 + (Y - Y_1)**2"
      ]
     },
     "execution_count": 6,
     "metadata": {},
     "output_type": "execute_result"
    }
   ],
   "source": [
    "P1"
   ]
  },
  {
   "cell_type": "code",
   "execution_count": 7,
   "metadata": {},
   "outputs": [
    {
     "data": {
      "text/latex": [
       "$\\displaystyle - R_{2}^{2} + \\left(X - X_{2}\\right)^{2} + \\left(Y - Y_{2}\\right)^{2}$"
      ],
      "text/plain": [
       "-R_2**2 + (X - X_2)**2 + (Y - Y_2)**2"
      ]
     },
     "execution_count": 7,
     "metadata": {},
     "output_type": "execute_result"
    }
   ],
   "source": [
    "P2"
   ]
  },
  {
   "cell_type": "markdown",
   "metadata": {},
   "source": [
    "Введем новые символы"
   ]
  },
  {
   "cell_type": "code",
   "execution_count": 8,
   "metadata": {},
   "outputs": [],
   "source": [
    "Sx, Sy = symbols('S_x S_y')"
   ]
  },
  {
   "cell_type": "markdown",
   "metadata": {},
   "source": [
    "Введем замену переменной"
   ]
  },
  {
   "cell_type": "code",
   "execution_count": 9,
   "metadata": {},
   "outputs": [],
   "source": [
    "Exch1 = Eq(X, Sx + X1)\n",
    "Exch2 = Eq(Y, Sy + Y1)"
   ]
  },
  {
   "cell_type": "code",
   "execution_count": 10,
   "metadata": {},
   "outputs": [
    {
     "data": {
      "text/latex": [
       "$\\displaystyle X = S_{x} + X_{1}$"
      ],
      "text/plain": [
       "Eq(X, S_x + X_1)"
      ]
     },
     "execution_count": 10,
     "metadata": {},
     "output_type": "execute_result"
    }
   ],
   "source": [
    "Exch1"
   ]
  },
  {
   "cell_type": "code",
   "execution_count": 11,
   "metadata": {},
   "outputs": [
    {
     "data": {
      "text/latex": [
       "$\\displaystyle Y = S_{y} + Y_{1}$"
      ],
      "text/plain": [
       "Eq(Y, S_y + Y_1)"
      ]
     },
     "execution_count": 11,
     "metadata": {},
     "output_type": "execute_result"
    }
   ],
   "source": [
    "Exch2"
   ]
  },
  {
   "cell_type": "markdown",
   "metadata": {},
   "source": [
    "Подставим в предикаты P1, P2"
   ]
  },
  {
   "cell_type": "code",
   "execution_count": 12,
   "metadata": {},
   "outputs": [],
   "source": [
    "P3 = P1.subs(*Exch1.args).subs(*Exch2.args)\n",
    "P4 = P2.subs(*Exch1.args).subs(*Exch2.args)"
   ]
  },
  {
   "cell_type": "code",
   "execution_count": 13,
   "metadata": {},
   "outputs": [
    {
     "data": {
      "text/latex": [
       "$\\displaystyle - R_{1}^{2} + S_{x}^{2} + S_{y}^{2}$"
      ],
      "text/plain": [
       "-R_1**2 + S_x**2 + S_y**2"
      ]
     },
     "execution_count": 13,
     "metadata": {},
     "output_type": "execute_result"
    }
   ],
   "source": [
    "P3"
   ]
  },
  {
   "cell_type": "code",
   "execution_count": 14,
   "metadata": {},
   "outputs": [
    {
     "data": {
      "text/latex": [
       "$\\displaystyle - R_{2}^{2} + \\left(S_{x} + X_{1} - X_{2}\\right)^{2} + \\left(S_{y} + Y_{1} - Y_{2}\\right)^{2}$"
      ],
      "text/plain": [
       "-R_2**2 + (S_x + X_1 - X_2)**2 + (S_y + Y_1 - Y_2)**2"
      ]
     },
     "execution_count": 14,
     "metadata": {},
     "output_type": "execute_result"
    }
   ],
   "source": [
    "P4"
   ]
  },
  {
   "cell_type": "markdown",
   "metadata": {},
   "source": [
    "Теперь заменим $X_1 - X_2$ и $Y_1 - Y_2$"
   ]
  },
  {
   "cell_type": "code",
   "execution_count": 15,
   "metadata": {},
   "outputs": [],
   "source": [
    "Dx, Dy = symbols('D_x D_y')"
   ]
  },
  {
   "cell_type": "code",
   "execution_count": 16,
   "metadata": {},
   "outputs": [],
   "source": [
    "Exch3 = Eq(X1, X2 + Dx)\n",
    "Exch4 = Eq(Y1, Y2 + Dy)"
   ]
  },
  {
   "cell_type": "code",
   "execution_count": 17,
   "metadata": {},
   "outputs": [],
   "source": [
    "P5 = P4.subs(*Exch3.args).subs(*Exch4.args)"
   ]
  },
  {
   "cell_type": "markdown",
   "metadata": {},
   "source": [
    "Теперь у нас есть система"
   ]
  },
  {
   "cell_type": "code",
   "execution_count": 18,
   "metadata": {},
   "outputs": [
    {
     "data": {
      "text/latex": [
       "$\\displaystyle - R_{1}^{2} + S_{x}^{2} + S_{y}^{2}$"
      ],
      "text/plain": [
       "-R_1**2 + S_x**2 + S_y**2"
      ]
     },
     "execution_count": 18,
     "metadata": {},
     "output_type": "execute_result"
    }
   ],
   "source": [
    "P3"
   ]
  },
  {
   "cell_type": "code",
   "execution_count": 19,
   "metadata": {},
   "outputs": [
    {
     "data": {
      "text/latex": [
       "$\\displaystyle - R_{2}^{2} + \\left(D_{x} + S_{x}\\right)^{2} + \\left(D_{y} + S_{y}\\right)^{2}$"
      ],
      "text/plain": [
       "-R_2**2 + (D_x + S_x)**2 + (D_y + S_y)**2"
      ]
     },
     "execution_count": 19,
     "metadata": {},
     "output_type": "execute_result"
    }
   ],
   "source": [
    "P5"
   ]
  },
  {
   "cell_type": "markdown",
   "metadata": {},
   "source": [
    "Надо найти $S_x$ и $S_y$"
   ]
  },
  {
   "cell_type": "markdown",
   "metadata": {},
   "source": [
    "Попытка решить систему опять в лоб:"
   ]
  },
  {
   "cell_type": "code",
   "execution_count": 20,
   "metadata": {},
   "outputs": [
    {
     "data": {
      "text/latex": [
       "$\\displaystyle - \\frac{D_{x}^{2} + D_{y}^{2} + 2 D_{y} \\left(- \\frac{D_{x} \\sqrt{- \\left(D_{x}^{2} + D_{y}^{2} - R_{1}^{2} - 2 R_{1} R_{2} - R_{2}^{2}\\right) \\left(D_{x}^{2} + D_{y}^{2} - R_{1}^{2} + 2 R_{1} R_{2} - R_{2}^{2}\\right)}}{2 \\left(D_{x}^{2} + D_{y}^{2}\\right)} - \\frac{D_{y} \\left(D_{x}^{2} + D_{y}^{2} + R_{1}^{2} - R_{2}^{2}\\right)}{2 \\left(D_{x}^{2} + D_{y}^{2}\\right)}\\right) + R_{1}^{2} - R_{2}^{2}}{2 D_{x}}$"
      ],
      "text/plain": [
       "-(D_x**2 + D_y**2 + 2*D_y*(-D_x*sqrt(-(D_x**2 + D_y**2 - R_1**2 - 2*R_1*R_2 - R_2**2)*(D_x**2 + D_y**2 - R_1**2 + 2*R_1*R_2 - R_2**2))/(2*(D_x**2 + D_y**2)) - D_y*(D_x**2 + D_y**2 + R_1**2 - R_2**2)/(2*(D_x**2 + D_y**2))) + R_1**2 - R_2**2)/(2*D_x)"
      ]
     },
     "execution_count": 20,
     "metadata": {},
     "output_type": "execute_result"
    }
   ],
   "source": [
    "solve([P3, P5], [Sx, Sy])[0][0]"
   ]
  },
  {
   "cell_type": "markdown",
   "metadata": {},
   "source": [
    "### Страшно смотреть"
   ]
  },
  {
   "cell_type": "markdown",
   "metadata": {},
   "source": [
    "Попробуем и дальше сохранять симметрию. Вычтем одно уравнение из другого"
   ]
  },
  {
   "cell_type": "code",
   "execution_count": 21,
   "metadata": {},
   "outputs": [
    {
     "data": {
      "text/latex": [
       "$\\displaystyle D_{x}^{2} + 2 D_{x} S_{x} + D_{y}^{2} + 2 D_{y} S_{y} + R_{1}^{2} - R_{2}^{2}$"
      ],
      "text/plain": [
       "D_x**2 + 2*D_x*S_x + D_y**2 + 2*D_y*S_y + R_1**2 - R_2**2"
      ]
     },
     "execution_count": 21,
     "metadata": {},
     "output_type": "execute_result"
    }
   ],
   "source": [
    "P6 = (P5 - P3).expand()\n",
    "P6"
   ]
  },
  {
   "cell_type": "markdown",
   "metadata": {},
   "source": [
    "Получили уравнение прямой на плоскости $S_x$ $S_y$"
   ]
  },
  {
   "cell_type": "markdown",
   "metadata": {},
   "source": [
    "Выразим из $P6$ $S_y$"
   ]
  },
  {
   "cell_type": "code",
   "execution_count": 22,
   "metadata": {},
   "outputs": [
    {
     "data": {
      "text/latex": [
       "$\\displaystyle \\frac{- D_{x}^{2} - 2 D_{x} S_{x} - D_{y}^{2} - R_{1}^{2} + R_{2}^{2}}{2 D_{y}}$"
      ],
      "text/plain": [
       "(-D_x**2 - 2*D_x*S_x - D_y**2 - R_1**2 + R_2**2)/(2*D_y)"
      ]
     },
     "execution_count": 22,
     "metadata": {},
     "output_type": "execute_result"
    }
   ],
   "source": [
    "Sy_through_Sx = solve(P6, Sy)[0]\n",
    "Sy_through_Sx"
   ]
  },
  {
   "cell_type": "markdown",
   "metadata": {},
   "source": [
    "Теперь подставим его в $P3$"
   ]
  },
  {
   "cell_type": "code",
   "execution_count": 56,
   "metadata": {},
   "outputs": [
    {
     "data": {
      "text/latex": [
       "$\\displaystyle - R_{1}^{2} + S_{x}^{2} + S_{y}^{2}$"
      ],
      "text/plain": [
       "-R_1**2 + S_x**2 + S_y**2"
      ]
     },
     "execution_count": 56,
     "metadata": {},
     "output_type": "execute_result"
    }
   ],
   "source": [
    "P3"
   ]
  },
  {
   "cell_type": "code",
   "execution_count": 23,
   "metadata": {},
   "outputs": [
    {
     "data": {
      "text/latex": [
       "$\\displaystyle - R_{1}^{2} + S_{x}^{2} + \\frac{\\left(- D_{x}^{2} - 2 D_{x} S_{x} - D_{y}^{2} - R_{1}^{2} + R_{2}^{2}\\right)^{2}}{4 D_{y}^{2}}$"
      ],
      "text/plain": [
       "-R_1**2 + S_x**2 + (-D_x**2 - 2*D_x*S_x - D_y**2 - R_1**2 + R_2**2)**2/(4*D_y**2)"
      ]
     },
     "execution_count": 23,
     "metadata": {},
     "output_type": "execute_result"
    }
   ],
   "source": [
    "P7 = P3.subs(Sy, Sy_through_Sx)\n",
    "P7"
   ]
  },
  {
   "cell_type": "markdown",
   "metadata": {},
   "source": [
    "Теперь попробуем решить получившиеся уравнение"
   ]
  },
  {
   "cell_type": "code",
   "execution_count": 24,
   "metadata": {},
   "outputs": [],
   "source": [
    "Sx_sol = solve(P7, Sx)"
   ]
  },
  {
   "cell_type": "markdown",
   "metadata": {},
   "source": [
    "### Получили два симметричных красивых решения для $S_x$:"
   ]
  },
  {
   "cell_type": "code",
   "execution_count": 28,
   "metadata": {},
   "outputs": [
    {
     "data": {
      "text/latex": [
       "$\\displaystyle \\frac{- D_{x} \\left(D_{x}^{2} + D_{y}^{2} + R_{1}^{2} - R_{2}^{2}\\right) + D_{y} \\sqrt{\\left(- D_{x}^{2} - D_{y}^{2} + R_{1}^{2} + 2 R_{1} R_{2} + R_{2}^{2}\\right) \\left(D_{x}^{2} + D_{y}^{2} - R_{1}^{2} + 2 R_{1} R_{2} - R_{2}^{2}\\right)}}{2 \\left(D_{x}^{2} + D_{y}^{2}\\right)}$"
      ],
      "text/plain": [
       "(-D_x*(D_x**2 + D_y**2 + R_1**2 - R_2**2) + D_y*sqrt((-D_x**2 - D_y**2 + R_1**2 + 2*R_1*R_2 + R_2**2)*(D_x**2 + D_y**2 - R_1**2 + 2*R_1*R_2 - R_2**2)))/(2*(D_x**2 + D_y**2))"
      ]
     },
     "execution_count": 28,
     "metadata": {},
     "output_type": "execute_result"
    }
   ],
   "source": [
    "Sx_sol[0]"
   ]
  },
  {
   "cell_type": "code",
   "execution_count": 29,
   "metadata": {},
   "outputs": [
    {
     "data": {
      "text/latex": [
       "$\\displaystyle - \\frac{D_{x} \\left(D_{x}^{2} + D_{y}^{2} + R_{1}^{2} - R_{2}^{2}\\right) + D_{y} \\sqrt{\\left(- D_{x}^{2} - D_{y}^{2} + R_{1}^{2} + 2 R_{1} R_{2} + R_{2}^{2}\\right) \\left(D_{x}^{2} + D_{y}^{2} - R_{1}^{2} + 2 R_{1} R_{2} - R_{2}^{2}\\right)}}{2 D_{x}^{2} + 2 D_{y}^{2}}$"
      ],
      "text/plain": [
       "-(D_x*(D_x**2 + D_y**2 + R_1**2 - R_2**2) + D_y*sqrt((-D_x**2 - D_y**2 + R_1**2 + 2*R_1*R_2 + R_2**2)*(D_x**2 + D_y**2 - R_1**2 + 2*R_1*R_2 - R_2**2)))/(2*D_x**2 + 2*D_y**2)"
      ]
     },
     "execution_count": 29,
     "metadata": {},
     "output_type": "execute_result"
    }
   ],
   "source": [
    "Sx_sol[1]"
   ]
  },
  {
   "cell_type": "markdown",
   "metadata": {},
   "source": [
    "Теперь найдем $S_y$, подставив решение $S_x$ в Sy_through_Sx"
   ]
  },
  {
   "cell_type": "code",
   "execution_count": 30,
   "metadata": {},
   "outputs": [
    {
     "data": {
      "text/latex": [
       "$\\displaystyle \\frac{- D_{x}^{2} - \\frac{D_{x} \\left(- D_{x} \\left(D_{x}^{2} + D_{y}^{2} + R_{1}^{2} - R_{2}^{2}\\right) + D_{y} \\sqrt{\\left(- D_{x}^{2} - D_{y}^{2} + R_{1}^{2} + 2 R_{1} R_{2} + R_{2}^{2}\\right) \\left(D_{x}^{2} + D_{y}^{2} - R_{1}^{2} + 2 R_{1} R_{2} - R_{2}^{2}\\right)}\\right)}{D_{x}^{2} + D_{y}^{2}} - D_{y}^{2} - R_{1}^{2} + R_{2}^{2}}{2 D_{y}}$"
      ],
      "text/plain": [
       "(-D_x**2 - D_x*(-D_x*(D_x**2 + D_y**2 + R_1**2 - R_2**2) + D_y*sqrt((-D_x**2 - D_y**2 + R_1**2 + 2*R_1*R_2 + R_2**2)*(D_x**2 + D_y**2 - R_1**2 + 2*R_1*R_2 - R_2**2)))/(D_x**2 + D_y**2) - D_y**2 - R_1**2 + R_2**2)/(2*D_y)"
      ]
     },
     "execution_count": 30,
     "metadata": {},
     "output_type": "execute_result"
    }
   ],
   "source": [
    "sy_ugly = Sy_through_Sx.subs(Sx, Sx_sol[0])\n",
    "sy_ugly"
   ]
  },
  {
   "cell_type": "markdown",
   "metadata": {},
   "source": [
    "### Опять очень коряво! \n",
    "Но ясно, что $S_y$ в силу симметрии уравнений может быть так-же красиво выражен, как и $S_x$. Попробуем:"
   ]
  },
  {
   "cell_type": "code",
   "execution_count": 32,
   "metadata": {},
   "outputs": [],
   "source": [
    "Sy_sol = solve(P3.subs(Sx, solve(P6, Sx)[0]), Sy)"
   ]
  },
  {
   "cell_type": "code",
   "execution_count": 33,
   "metadata": {},
   "outputs": [
    {
     "data": {
      "text/latex": [
       "$\\displaystyle \\frac{D_{x} \\sqrt{\\left(- D_{x}^{2} - D_{y}^{2} + R_{1}^{2} + 2 R_{1} R_{2} + R_{2}^{2}\\right) \\left(D_{x}^{2} + D_{y}^{2} - R_{1}^{2} + 2 R_{1} R_{2} - R_{2}^{2}\\right)} - D_{y} \\left(D_{x}^{2} + D_{y}^{2} + R_{1}^{2} - R_{2}^{2}\\right)}{2 \\left(D_{x}^{2} + D_{y}^{2}\\right)}$"
      ],
      "text/plain": [
       "(D_x*sqrt((-D_x**2 - D_y**2 + R_1**2 + 2*R_1*R_2 + R_2**2)*(D_x**2 + D_y**2 - R_1**2 + 2*R_1*R_2 - R_2**2)) - D_y*(D_x**2 + D_y**2 + R_1**2 - R_2**2))/(2*(D_x**2 + D_y**2))"
      ]
     },
     "execution_count": 33,
     "metadata": {},
     "output_type": "execute_result"
    }
   ],
   "source": [
    "Sy_sol[0]"
   ]
  },
  {
   "cell_type": "code",
   "execution_count": 34,
   "metadata": {},
   "outputs": [
    {
     "data": {
      "text/latex": [
       "$\\displaystyle - \\frac{D_{x} \\sqrt{\\left(- D_{x}^{2} - D_{y}^{2} + R_{1}^{2} + 2 R_{1} R_{2} + R_{2}^{2}\\right) \\left(D_{x}^{2} + D_{y}^{2} - R_{1}^{2} + 2 R_{1} R_{2} - R_{2}^{2}\\right)} + D_{y} \\left(D_{x}^{2} + D_{y}^{2} + R_{1}^{2} - R_{2}^{2}\\right)}{2 D_{x}^{2} + 2 D_{y}^{2}}$"
      ],
      "text/plain": [
       "-(D_x*sqrt((-D_x**2 - D_y**2 + R_1**2 + 2*R_1*R_2 + R_2**2)*(D_x**2 + D_y**2 - R_1**2 + 2*R_1*R_2 - R_2**2)) + D_y*(D_x**2 + D_y**2 + R_1**2 - R_2**2))/(2*D_x**2 + 2*D_y**2)"
      ]
     },
     "execution_count": 34,
     "metadata": {},
     "output_type": "execute_result"
    }
   ],
   "source": [
    "Sy_sol[1]"
   ]
  },
  {
   "cell_type": "markdown",
   "metadata": {},
   "source": [
    "# Выпишем все корни"
   ]
  },
  {
   "cell_type": "code",
   "execution_count": 35,
   "metadata": {},
   "outputs": [
    {
     "data": {
      "text/latex": [
       "$\\displaystyle \\frac{- D_{x} \\left(D_{x}^{2} + D_{y}^{2} + R_{1}^{2} - R_{2}^{2}\\right) + D_{y} \\sqrt{\\left(- D_{x}^{2} - D_{y}^{2} + R_{1}^{2} + 2 R_{1} R_{2} + R_{2}^{2}\\right) \\left(D_{x}^{2} + D_{y}^{2} - R_{1}^{2} + 2 R_{1} R_{2} - R_{2}^{2}\\right)}}{2 \\left(D_{x}^{2} + D_{y}^{2}\\right)}$"
      ],
      "text/plain": [
       "(-D_x*(D_x**2 + D_y**2 + R_1**2 - R_2**2) + D_y*sqrt((-D_x**2 - D_y**2 + R_1**2 + 2*R_1*R_2 + R_2**2)*(D_x**2 + D_y**2 - R_1**2 + 2*R_1*R_2 - R_2**2)))/(2*(D_x**2 + D_y**2))"
      ]
     },
     "execution_count": 35,
     "metadata": {},
     "output_type": "execute_result"
    }
   ],
   "source": [
    "Sx_sol[0]"
   ]
  },
  {
   "cell_type": "code",
   "execution_count": 36,
   "metadata": {},
   "outputs": [
    {
     "data": {
      "text/latex": [
       "$\\displaystyle - \\frac{D_{x} \\left(D_{x}^{2} + D_{y}^{2} + R_{1}^{2} - R_{2}^{2}\\right) + D_{y} \\sqrt{\\left(- D_{x}^{2} - D_{y}^{2} + R_{1}^{2} + 2 R_{1} R_{2} + R_{2}^{2}\\right) \\left(D_{x}^{2} + D_{y}^{2} - R_{1}^{2} + 2 R_{1} R_{2} - R_{2}^{2}\\right)}}{2 D_{x}^{2} + 2 D_{y}^{2}}$"
      ],
      "text/plain": [
       "-(D_x*(D_x**2 + D_y**2 + R_1**2 - R_2**2) + D_y*sqrt((-D_x**2 - D_y**2 + R_1**2 + 2*R_1*R_2 + R_2**2)*(D_x**2 + D_y**2 - R_1**2 + 2*R_1*R_2 - R_2**2)))/(2*D_x**2 + 2*D_y**2)"
      ]
     },
     "execution_count": 36,
     "metadata": {},
     "output_type": "execute_result"
    }
   ],
   "source": [
    "Sx_sol[1]"
   ]
  },
  {
   "cell_type": "code",
   "execution_count": 37,
   "metadata": {},
   "outputs": [
    {
     "data": {
      "text/latex": [
       "$\\displaystyle \\frac{D_{x} \\sqrt{\\left(- D_{x}^{2} - D_{y}^{2} + R_{1}^{2} + 2 R_{1} R_{2} + R_{2}^{2}\\right) \\left(D_{x}^{2} + D_{y}^{2} - R_{1}^{2} + 2 R_{1} R_{2} - R_{2}^{2}\\right)} - D_{y} \\left(D_{x}^{2} + D_{y}^{2} + R_{1}^{2} - R_{2}^{2}\\right)}{2 \\left(D_{x}^{2} + D_{y}^{2}\\right)}$"
      ],
      "text/plain": [
       "(D_x*sqrt((-D_x**2 - D_y**2 + R_1**2 + 2*R_1*R_2 + R_2**2)*(D_x**2 + D_y**2 - R_1**2 + 2*R_1*R_2 - R_2**2)) - D_y*(D_x**2 + D_y**2 + R_1**2 - R_2**2))/(2*(D_x**2 + D_y**2))"
      ]
     },
     "execution_count": 37,
     "metadata": {},
     "output_type": "execute_result"
    }
   ],
   "source": [
    "Sy_sol[0]"
   ]
  },
  {
   "cell_type": "code",
   "execution_count": 38,
   "metadata": {},
   "outputs": [
    {
     "data": {
      "text/latex": [
       "$\\displaystyle - \\frac{D_{x} \\sqrt{\\left(- D_{x}^{2} - D_{y}^{2} + R_{1}^{2} + 2 R_{1} R_{2} + R_{2}^{2}\\right) \\left(D_{x}^{2} + D_{y}^{2} - R_{1}^{2} + 2 R_{1} R_{2} - R_{2}^{2}\\right)} + D_{y} \\left(D_{x}^{2} + D_{y}^{2} + R_{1}^{2} - R_{2}^{2}\\right)}{2 D_{x}^{2} + 2 D_{y}^{2}}$"
      ],
      "text/plain": [
       "-(D_x*sqrt((-D_x**2 - D_y**2 + R_1**2 + 2*R_1*R_2 + R_2**2)*(D_x**2 + D_y**2 - R_1**2 + 2*R_1*R_2 - R_2**2)) + D_y*(D_x**2 + D_y**2 + R_1**2 - R_2**2))/(2*D_x**2 + 2*D_y**2)"
      ]
     },
     "execution_count": 38,
     "metadata": {},
     "output_type": "execute_result"
    }
   ],
   "source": [
    "Sy_sol[1]"
   ]
  },
  {
   "cell_type": "markdown",
   "metadata": {},
   "source": [
    "## Осталось понять, как соотнести пары корней по $S_y$ и $S_x$"
   ]
  },
  {
   "cell_type": "markdown",
   "metadata": {},
   "source": [
    "Подставим эти пары в уравнение прямой $P6$"
   ]
  },
  {
   "cell_type": "code",
   "execution_count": 39,
   "metadata": {},
   "outputs": [
    {
     "data": {
      "text/latex": [
       "$\\displaystyle D_{x}^{2} + 2 D_{x} S_{x} + D_{y}^{2} + 2 D_{y} S_{y} + R_{1}^{2} - R_{2}^{2}$"
      ],
      "text/plain": [
       "D_x**2 + 2*D_x*S_x + D_y**2 + 2*D_y*S_y + R_1**2 - R_2**2"
      ]
     },
     "execution_count": 39,
     "metadata": {},
     "output_type": "execute_result"
    }
   ],
   "source": [
    "P6"
   ]
  },
  {
   "cell_type": "code",
   "execution_count": 40,
   "metadata": {},
   "outputs": [
    {
     "data": {
      "text/latex": [
       "$\\displaystyle D_{x}^{2} + \\frac{D_{x} \\left(- D_{x} \\left(D_{x}^{2} + D_{y}^{2} + R_{1}^{2} - R_{2}^{2}\\right) + D_{y} \\sqrt{\\left(- D_{x}^{2} - D_{y}^{2} + R_{1}^{2} + 2 R_{1} R_{2} + R_{2}^{2}\\right) \\left(D_{x}^{2} + D_{y}^{2} - R_{1}^{2} + 2 R_{1} R_{2} - R_{2}^{2}\\right)}\\right)}{D_{x}^{2} + D_{y}^{2}} + D_{y}^{2} + \\frac{D_{y} \\left(D_{x} \\sqrt{\\left(- D_{x}^{2} - D_{y}^{2} + R_{1}^{2} + 2 R_{1} R_{2} + R_{2}^{2}\\right) \\left(D_{x}^{2} + D_{y}^{2} - R_{1}^{2} + 2 R_{1} R_{2} - R_{2}^{2}\\right)} - D_{y} \\left(D_{x}^{2} + D_{y}^{2} + R_{1}^{2} - R_{2}^{2}\\right)\\right)}{D_{x}^{2} + D_{y}^{2}} + R_{1}^{2} - R_{2}^{2}$"
      ],
      "text/plain": [
       "D_x**2 + D_x*(-D_x*(D_x**2 + D_y**2 + R_1**2 - R_2**2) + D_y*sqrt((-D_x**2 - D_y**2 + R_1**2 + 2*R_1*R_2 + R_2**2)*(D_x**2 + D_y**2 - R_1**2 + 2*R_1*R_2 - R_2**2)))/(D_x**2 + D_y**2) + D_y**2 + D_y*(D_x*sqrt((-D_x**2 - D_y**2 + R_1**2 + 2*R_1*R_2 + R_2**2)*(D_x**2 + D_y**2 - R_1**2 + 2*R_1*R_2 - R_2**2)) - D_y*(D_x**2 + D_y**2 + R_1**2 - R_2**2))/(D_x**2 + D_y**2) + R_1**2 - R_2**2"
      ]
     },
     "execution_count": 40,
     "metadata": {},
     "output_type": "execute_result"
    }
   ],
   "source": [
    "trial1 = P6.subs(Sx, Sx_sol[0]).subs(Sy, Sy_sol[0])\n",
    "trial1"
   ]
  },
  {
   "cell_type": "markdown",
   "metadata": {},
   "source": [
    "На первый взгляд это выражение не равно нулю"
   ]
  },
  {
   "cell_type": "code",
   "execution_count": 41,
   "metadata": {},
   "outputs": [
    {
     "data": {
      "text/latex": [
       "$\\displaystyle \\frac{2 D_{x} D_{y} \\sqrt{- D_{x}^{4} - 2 D_{x}^{2} D_{y}^{2} + 2 D_{x}^{2} R_{1}^{2} + 2 D_{x}^{2} R_{2}^{2} - D_{y}^{4} + 2 D_{y}^{2} R_{1}^{2} + 2 D_{y}^{2} R_{2}^{2} - R_{1}^{4} + 2 R_{1}^{2} R_{2}^{2} - R_{2}^{4}}}{D_{x}^{2} + D_{y}^{2}}$"
      ],
      "text/plain": [
       "2*D_x*D_y*sqrt(-D_x**4 - 2*D_x**2*D_y**2 + 2*D_x**2*R_1**2 + 2*D_x**2*R_2**2 - D_y**4 + 2*D_y**2*R_1**2 + 2*D_y**2*R_2**2 - R_1**4 + 2*R_1**2*R_2**2 - R_2**4)/(D_x**2 + D_y**2)"
      ]
     },
     "execution_count": 41,
     "metadata": {},
     "output_type": "execute_result"
    }
   ],
   "source": [
    "trial1.simplify()"
   ]
  },
  {
   "cell_type": "markdown",
   "metadata": {},
   "source": [
    "И это вроде бы не ноль."
   ]
  },
  {
   "cell_type": "code",
   "execution_count": 42,
   "metadata": {},
   "outputs": [
    {
     "data": {
      "text/latex": [
       "$\\displaystyle D_{x}^{2} + \\frac{D_{x} \\left(- D_{x} \\left(D_{x}^{2} + D_{y}^{2} + R_{1}^{2} - R_{2}^{2}\\right) + D_{y} \\sqrt{\\left(- D_{x}^{2} - D_{y}^{2} + R_{1}^{2} + 2 R_{1} R_{2} + R_{2}^{2}\\right) \\left(D_{x}^{2} + D_{y}^{2} - R_{1}^{2} + 2 R_{1} R_{2} - R_{2}^{2}\\right)}\\right)}{D_{x}^{2} + D_{y}^{2}} + D_{y}^{2} - \\frac{2 D_{y} \\left(D_{x} \\sqrt{\\left(- D_{x}^{2} - D_{y}^{2} + R_{1}^{2} + 2 R_{1} R_{2} + R_{2}^{2}\\right) \\left(D_{x}^{2} + D_{y}^{2} - R_{1}^{2} + 2 R_{1} R_{2} - R_{2}^{2}\\right)} + D_{y} \\left(D_{x}^{2} + D_{y}^{2} + R_{1}^{2} - R_{2}^{2}\\right)\\right)}{2 D_{x}^{2} + 2 D_{y}^{2}} + R_{1}^{2} - R_{2}^{2}$"
      ],
      "text/plain": [
       "D_x**2 + D_x*(-D_x*(D_x**2 + D_y**2 + R_1**2 - R_2**2) + D_y*sqrt((-D_x**2 - D_y**2 + R_1**2 + 2*R_1*R_2 + R_2**2)*(D_x**2 + D_y**2 - R_1**2 + 2*R_1*R_2 - R_2**2)))/(D_x**2 + D_y**2) + D_y**2 - 2*D_y*(D_x*sqrt((-D_x**2 - D_y**2 + R_1**2 + 2*R_1*R_2 + R_2**2)*(D_x**2 + D_y**2 - R_1**2 + 2*R_1*R_2 - R_2**2)) + D_y*(D_x**2 + D_y**2 + R_1**2 - R_2**2))/(2*D_x**2 + 2*D_y**2) + R_1**2 - R_2**2"
      ]
     },
     "execution_count": 42,
     "metadata": {},
     "output_type": "execute_result"
    }
   ],
   "source": [
    "trial2 = P6.subs(Sx, Sx_sol[0]).subs(Sy, Sy_sol[1])\n",
    "trial2"
   ]
  },
  {
   "cell_type": "markdown",
   "metadata": {},
   "source": [
    "Но.... А вот и пара!"
   ]
  },
  {
   "cell_type": "code",
   "execution_count": 43,
   "metadata": {},
   "outputs": [
    {
     "data": {
      "text/latex": [
       "$\\displaystyle 0$"
      ],
      "text/plain": [
       "0"
      ]
     },
     "execution_count": 43,
     "metadata": {},
     "output_type": "execute_result"
    }
   ],
   "source": [
    "trial2.simplify()"
   ]
  },
  {
   "cell_type": "markdown",
   "metadata": {},
   "source": [
    "Аналогично посмотрим на вторую пару"
   ]
  },
  {
   "cell_type": "code",
   "execution_count": 44,
   "metadata": {},
   "outputs": [
    {
     "data": {
      "text/latex": [
       "$\\displaystyle 0$"
      ],
      "text/plain": [
       "0"
      ]
     },
     "execution_count": 44,
     "metadata": {},
     "output_type": "execute_result"
    }
   ],
   "source": [
    "trial3 = P6.subs(Sx, Sx_sol[1]).subs(Sy, Sy_sol[0])\n",
    "trial3.simplify()"
   ]
  },
  {
   "cell_type": "markdown",
   "metadata": {},
   "source": [
    "# Окончательное решение"
   ]
  },
  {
   "cell_type": "code",
   "execution_count": 65,
   "metadata": {},
   "outputs": [
    {
     "data": {
      "text/latex": [
       "$\\displaystyle X = S_{x} + X_{1}$"
      ],
      "text/plain": [
       "Eq(X, S_x + X_1)"
      ]
     },
     "execution_count": 65,
     "metadata": {},
     "output_type": "execute_result"
    }
   ],
   "source": [
    "Exch1"
   ]
  },
  {
   "cell_type": "code",
   "execution_count": 66,
   "metadata": {},
   "outputs": [
    {
     "data": {
      "text/latex": [
       "$\\displaystyle Y = S_{y} + Y_{1}$"
      ],
      "text/plain": [
       "Eq(Y, S_y + Y_1)"
      ]
     },
     "execution_count": 66,
     "metadata": {},
     "output_type": "execute_result"
    }
   ],
   "source": [
    "Exch2"
   ]
  },
  {
   "cell_type": "code",
   "execution_count": 67,
   "metadata": {},
   "outputs": [
    {
     "data": {
      "text/latex": [
       "$\\displaystyle X_{1} = D_{x} + X_{2}$"
      ],
      "text/plain": [
       "Eq(X_1, D_x + X_2)"
      ]
     },
     "execution_count": 67,
     "metadata": {},
     "output_type": "execute_result"
    }
   ],
   "source": [
    "Exch3"
   ]
  },
  {
   "cell_type": "code",
   "execution_count": 68,
   "metadata": {},
   "outputs": [
    {
     "data": {
      "text/latex": [
       "$\\displaystyle Y_{1} = D_{y} + Y_{2}$"
      ],
      "text/plain": [
       "Eq(Y_1, D_y + Y_2)"
      ]
     },
     "execution_count": 68,
     "metadata": {},
     "output_type": "execute_result"
    }
   ],
   "source": [
    "Exch4"
   ]
  },
  {
   "cell_type": "markdown",
   "metadata": {},
   "source": [
    "## Первая точка"
   ]
  },
  {
   "cell_type": "code",
   "execution_count": 45,
   "metadata": {},
   "outputs": [
    {
     "data": {
      "text/latex": [
       "$\\displaystyle \\frac{- D_{x} \\left(D_{x}^{2} + D_{y}^{2} + R_{1}^{2} - R_{2}^{2}\\right) + D_{y} \\sqrt{\\left(- D_{x}^{2} - D_{y}^{2} + R_{1}^{2} + 2 R_{1} R_{2} + R_{2}^{2}\\right) \\left(D_{x}^{2} + D_{y}^{2} - R_{1}^{2} + 2 R_{1} R_{2} - R_{2}^{2}\\right)}}{2 \\left(D_{x}^{2} + D_{y}^{2}\\right)}$"
      ],
      "text/plain": [
       "(-D_x*(D_x**2 + D_y**2 + R_1**2 - R_2**2) + D_y*sqrt((-D_x**2 - D_y**2 + R_1**2 + 2*R_1*R_2 + R_2**2)*(D_x**2 + D_y**2 - R_1**2 + 2*R_1*R_2 - R_2**2)))/(2*(D_x**2 + D_y**2))"
      ]
     },
     "execution_count": 45,
     "metadata": {},
     "output_type": "execute_result"
    }
   ],
   "source": [
    "Sx_sol[0]"
   ]
  },
  {
   "cell_type": "code",
   "execution_count": 46,
   "metadata": {},
   "outputs": [
    {
     "data": {
      "text/latex": [
       "$\\displaystyle - \\frac{D_{x} \\sqrt{\\left(- D_{x}^{2} - D_{y}^{2} + R_{1}^{2} + 2 R_{1} R_{2} + R_{2}^{2}\\right) \\left(D_{x}^{2} + D_{y}^{2} - R_{1}^{2} + 2 R_{1} R_{2} - R_{2}^{2}\\right)} + D_{y} \\left(D_{x}^{2} + D_{y}^{2} + R_{1}^{2} - R_{2}^{2}\\right)}{2 D_{x}^{2} + 2 D_{y}^{2}}$"
      ],
      "text/plain": [
       "-(D_x*sqrt((-D_x**2 - D_y**2 + R_1**2 + 2*R_1*R_2 + R_2**2)*(D_x**2 + D_y**2 - R_1**2 + 2*R_1*R_2 - R_2**2)) + D_y*(D_x**2 + D_y**2 + R_1**2 - R_2**2))/(2*D_x**2 + 2*D_y**2)"
      ]
     },
     "execution_count": 46,
     "metadata": {},
     "output_type": "execute_result"
    }
   ],
   "source": [
    "Sy_sol[1]"
   ]
  },
  {
   "cell_type": "markdown",
   "metadata": {},
   "source": [
    "## Вторая точка"
   ]
  },
  {
   "cell_type": "code",
   "execution_count": 47,
   "metadata": {},
   "outputs": [
    {
     "data": {
      "text/latex": [
       "$\\displaystyle - \\frac{D_{x} \\left(D_{x}^{2} + D_{y}^{2} + R_{1}^{2} - R_{2}^{2}\\right) + D_{y} \\sqrt{\\left(- D_{x}^{2} - D_{y}^{2} + R_{1}^{2} + 2 R_{1} R_{2} + R_{2}^{2}\\right) \\left(D_{x}^{2} + D_{y}^{2} - R_{1}^{2} + 2 R_{1} R_{2} - R_{2}^{2}\\right)}}{2 D_{x}^{2} + 2 D_{y}^{2}}$"
      ],
      "text/plain": [
       "-(D_x*(D_x**2 + D_y**2 + R_1**2 - R_2**2) + D_y*sqrt((-D_x**2 - D_y**2 + R_1**2 + 2*R_1*R_2 + R_2**2)*(D_x**2 + D_y**2 - R_1**2 + 2*R_1*R_2 - R_2**2)))/(2*D_x**2 + 2*D_y**2)"
      ]
     },
     "execution_count": 47,
     "metadata": {},
     "output_type": "execute_result"
    }
   ],
   "source": [
    "Sx_sol[1]"
   ]
  },
  {
   "cell_type": "code",
   "execution_count": 48,
   "metadata": {},
   "outputs": [
    {
     "data": {
      "text/latex": [
       "$\\displaystyle \\frac{D_{x} \\sqrt{\\left(- D_{x}^{2} - D_{y}^{2} + R_{1}^{2} + 2 R_{1} R_{2} + R_{2}^{2}\\right) \\left(D_{x}^{2} + D_{y}^{2} - R_{1}^{2} + 2 R_{1} R_{2} - R_{2}^{2}\\right)} - D_{y} \\left(D_{x}^{2} + D_{y}^{2} + R_{1}^{2} - R_{2}^{2}\\right)}{2 \\left(D_{x}^{2} + D_{y}^{2}\\right)}$"
      ],
      "text/plain": [
       "(D_x*sqrt((-D_x**2 - D_y**2 + R_1**2 + 2*R_1*R_2 + R_2**2)*(D_x**2 + D_y**2 - R_1**2 + 2*R_1*R_2 - R_2**2)) - D_y*(D_x**2 + D_y**2 + R_1**2 - R_2**2))/(2*(D_x**2 + D_y**2))"
      ]
     },
     "execution_count": 48,
     "metadata": {},
     "output_type": "execute_result"
    }
   ],
   "source": [
    "Sy_sol[0]"
   ]
  },
  {
   "cell_type": "markdown",
   "metadata": {},
   "source": [
    "# TODO Структура решения"
   ]
  },
  {
   "cell_type": "markdown",
   "metadata": {},
   "source": [
    "В решениях можно заметить сумму $D_x^2 + D_y^2$, квадрат суммы $(R_1 + R_2)^2$ и квадрат разности $(R_1 - R_2)^2$."
   ]
  },
  {
   "cell_type": "code",
   "execution_count": 58,
   "metadata": {},
   "outputs": [],
   "source": [
    "v = Sx_sol[1]"
   ]
  },
  {
   "cell_type": "code",
   "execution_count": 64,
   "metadata": {},
   "outputs": [
    {
     "ename": "IndexError",
     "evalue": "tuple index out of range",
     "output_type": "error",
     "traceback": [
      "\u001b[0;31m---------------------------------------------------------------------------\u001b[0m",
      "\u001b[0;31mIndexError\u001b[0m                                Traceback (most recent call last)",
      "\u001b[0;32m<ipython-input-64-503f1ff7144d>\u001b[0m in \u001b[0;36m<module>\u001b[0;34m\u001b[0m\n\u001b[0;32m----> 1\u001b[0;31m \u001b[0mv\u001b[0m\u001b[0;34m.\u001b[0m\u001b[0margs\u001b[0m\u001b[0;34m[\u001b[0m\u001b[0;36m3\u001b[0m\u001b[0;34m]\u001b[0m\u001b[0;34m\u001b[0m\u001b[0;34m\u001b[0m\u001b[0m\n\u001b[0m",
      "\u001b[0;31mIndexError\u001b[0m: tuple index out of range"
     ]
    }
   ],
   "source": [
    "v.args[3]"
   ]
  },
  {
   "cell_type": "code",
   "execution_count": null,
   "metadata": {},
   "outputs": [],
   "source": []
  }
 ],
 "metadata": {
  "kernelspec": {
   "display_name": "Python 3",
   "language": "python",
   "name": "python3"
  },
  "language_info": {
   "codemirror_mode": {
    "name": "ipython",
    "version": 3
   },
   "file_extension": ".py",
   "mimetype": "text/x-python",
   "name": "python",
   "nbconvert_exporter": "python",
   "pygments_lexer": "ipython3",
   "version": "3.7.5"
  }
 },
 "nbformat": 4,
 "nbformat_minor": 2
}
